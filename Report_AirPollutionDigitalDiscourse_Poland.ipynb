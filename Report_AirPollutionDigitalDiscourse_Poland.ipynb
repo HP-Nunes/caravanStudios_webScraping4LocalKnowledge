{
 "cells": [
  {
   "cell_type": "markdown",
   "metadata": {},
   "source": [
    "# The Digital Discourse of Air Pollution: A look at Polish Social Media"
   ]
  },
  {
   "cell_type": "markdown",
   "metadata": {},
   "source": [
    "## Background\n",
    "\n",
    "As the Citizen Science Research Intern at Caravan Studios, I was tasked to explore the air pollution discourse online for Poland, the EU country with the worst air pollution record. My aim was to 1) gain a temporal and spatial understanding of the interest about air pollution in Poland and 2) have a sense of the popular discourse about air pollution. To expand on the latter: how did Poles express themselves about air pollution (whom did they blame, how did they describe the impact of pollution on daily life etc.). \n",
    "\n",
    "I investigated different social media sources, including: Twitter, Facebook, Reddit, Wykop, NK.pl, and Google Trends. Here's the summary of my outputs per sources below:\n",
    "\n",
    "* <b>Google Trends</b>: I was able to generate charts showing browsing frequency over the last 5 years, using a set of keywords relevant to the subject of air pollution. Additionally I was able to compare the frequency of those searches between the whole of Poland and the southwestern region of Lesser Poland, known to be the region heavily impacted by smog.\n",
    "\n",
    "* <b>Facebook</b>: Due to changes in Facebook's API, I was unable to query for meaningful content. I considered a web scraping approach but Facebook browsing features limits to 5 posts over a narrow time period. Thus I dropped the site from my inquiries.\n",
    "\n",
    "* <b>Reddit</b>: I made <a href='https://www.reddit.com/r/Polska/comments/b3gsrf/cze%C5%9B%C4%87_rpolska_i_need_your_help_researching_public/' target=_blank>a post</a> on r/Polska, the <em>Polish Subreddit</em>, soliciting inputs about air pollutions from Polish individuals directly. I was able to gather over half a dozen responses. The objective of my sollicitation was to inform my research process and use local testimonies to cross-examine with news story and subsequent data I gathered.\n",
    "\n",
    "* <b>NK.pl</b>: A Polish forum site, which I rapidly found to be lacking in the content I was researching. Futhermore a poster on r/Polska kindly informed me that \"NK.pl is dead\".\n",
    "\n",
    "* <b>Twitter Analytics</b>: Using the Twitter's API, I queried Tweets from the last 7 days (a limitation of the public access API) geotagged to Poland with the mention of smog. Although the scope of temporal granularity is quite limited, the API nonetheless provides a snapshot of the \"current discourse\". I was able to both generate a timeseries and word clouds from the Tweets collected.\n",
    "\n",
    "* <b>Wykop</b>: The \"Polish Reddit\". Wykop was my richest source of information: I was able to scrape over 7,000 posts, dating as far back to 2012, mentioning smog. I was able to generate a timeseries of the frequency of the posts, in addition to a word cloud. "
   ]
  },
  {
   "cell_type": "markdown",
   "metadata": {},
   "source": [
    "***"
   ]
  },
  {
   "cell_type": "markdown",
   "metadata": {},
   "source": [
    "<img src=\"img/reddit.png\" img align=\"left\" width=\"100\" height=\"100\"/>\n",
    "\n",
    "<br><br><br><br>\n",
    "\n",
    "### <div align='left'>Summary</div>\n",
    "\n",
    "Under the Reddit username u/HP-Nunes, I made the following <a href='https://www.reddit.com/r/Polska/comments/b3gsrf/cze%C5%9B%C4%87_rpolska_i_need_your_help_researching_public/' target=_blank>post</a> on Wednesday March 20th, 2019:\n",
    "\n",
    "> <b>Cześć r/Polska! I need your help researching public discourse about air pollution in your country</b>\n",
    "<br><br>\n",
    "Halo!\n",
    "<br><br>\n",
    "Let me first preface that I don't speak a word of Polish, so my apologies for not being able to engage in your native tongue. I'm currently working on a project with homemade air sensor devices, and I have been tasked to research Poland (specifically the areas near Łódź and Gdansk) as a case study for the implementation of homemade air sensors in collecting data and engaging local communities with data, policy, and a better understanding of their local environment. \n",
    "<br><br>\n",
    "I have done some research and I was surprised to find the extent of air pollution in your country, stemming in large part from coal power plants along with antiquated heat furnaces and vehicles. I'm also pleased to find that this has spurred environmental activism over the last couple years and that civil society in Poland is taking the lead in improving air quality despite political opposition (I'll admit that's an outsider perspective, if you care to elaborate on that point I'm all ears).\n",
    "<br><br>\n",
    "What I am having difficulty with: my idea was to identify \"blind spots\" of information where air pollution is daily issue but isn't talked about much in the media. My idea was to scrape data off Facebook from posts mentioning terms like 'jakość powietrza', 'smog', 'zanieczyszczenie powietrza', 'czujnik powietrza' and try to correlate that info with time and location. However Facebook has become very privy of the data that can be collected from its website and its API is very limited (can't query by posts, for examples). I also browsed nk.pl (the polish Facebook?) but it doesn't seem to be the type of platform where people talk about local issues like air quality. What I expected to find in some ways is something like a forum or discussion threads of Polish mothers discussing the health of their children (asthma, pneumonia, respiratory diseases) as the effect of poor air quality, or people posting pictures and ranting about smog in their town. Everyday preoccupations not given much spotlight.\n",
    "<br><br>\n",
    "What I need help with: Any suggestions on where to look for information. I haven't tried using Reddit or Twitter's APIs, so I'll give it a go, but I don't think both of these sites are super popular in Poland, at least compared to Facebook.\n",
    "<br><br>\n",
    "I also took a look at Google Search Trends and there seem to be an annual pattern during the Winter when interest in 'smog' gains traction, probably because people burn coal/things to keep themselves warm. Lesser Poland seems to be the region most affected, probably due to the coal industry being prominent there.\n",
    "I could also try Google News or any major Polish News Aggregators to look at the frequency of stories related to air pollution. All in all I would appreciate your insights as you're the ones with local knowledge about your quality of life.\n",
    "<br>\n",
    "<br>\n",
    "Disclosure: I am doing this research on the behalf of Caravan Studios, a tech non-profit based in San Francisco, California, and I am finishing a Master's degree in Environmental Assessment; my focus of research concerns public participation, citizen science, and local knowledge. Feel free to reach out. Dziękuję!\n",
    "(Je parle français si ç'est une langue plus accessible pour communiquer; eu falo português se isso é uma idioma mais acessível para communicar)."
   ]
  },
  {
   "cell_type": "markdown",
   "metadata": {},
   "source": [
    "___"
   ]
  },
  {
   "cell_type": "markdown",
   "metadata": {},
   "source": [
    "<img src=\"img/gtrend.jpg\" img align=\"left\" width=\"150\" height=\"150\"/>\n",
    "\n",
    "<br><br>\n",
    "\n",
    "### <div align='left'>Method</div>\n",
    "Using the <a href='https://github.com/GeneralMills/pytrends'>pytrend</a> package, I queried the Google Trends' API, identifying a set of key terms on the subject of air pollution, from present day (2019) to the last 5 years.\n",
    "\n",
    "The terms were:\n",
    "* 'jakość powietrza' (air quality)\n",
    "* 'smog' (smog) \n",
    "* 'zanieczyszczenie powietrza' (air pollution)\n",
    "* 'czujnik powietrza' (air sensor)"
   ]
  },
  {
   "cell_type": "markdown",
   "metadata": {},
   "source": [
    "<center><img src=\"img/gtrend_overview.png\"/></center>\n",
    "<center><img src=\"img/gtrend_2017.png\"/></center>"
   ]
  },
  {
   "cell_type": "markdown",
   "metadata": {},
   "source": [
    "***"
   ]
  }
 ],
 "metadata": {
  "kernelspec": {
   "display_name": "Python 3",
   "language": "python",
   "name": "python3"
  },
  "language_info": {
   "codemirror_mode": {
    "name": "ipython",
    "version": 3
   },
   "file_extension": ".py",
   "mimetype": "text/x-python",
   "name": "python",
   "nbconvert_exporter": "python",
   "pygments_lexer": "ipython3",
   "version": "3.6.8"
  }
 },
 "nbformat": 4,
 "nbformat_minor": 2
}
